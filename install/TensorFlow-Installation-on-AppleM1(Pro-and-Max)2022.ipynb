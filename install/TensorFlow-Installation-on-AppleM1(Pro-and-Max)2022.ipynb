{
 "cells": [
  {
   "cell_type": "markdown",
   "id": "c05fa3c0",
   "metadata": {},
   "source": [
    "## To setup TensorFlow on the newer Mac ARM M1-based machines, you'd better performe following isntructions"
   ]
  },
  {
   "cell_type": "markdown",
   "id": "e77a4efa",
   "metadata": {},
   "source": [
    "#### 1. Install Homebrew from https://brew.sh (a package manager for the Mac). Just copy and paste the code in your mac terminal"
   ]
  },
  {
   "cell_type": "code",
   "execution_count": null,
   "id": "7a9baa62",
   "metadata": {},
   "outputs": [],
   "source": [
    "/bin/bash -c \"$(curl -fsSL https://raw.githubusercontent.com/Homebrew/install/HEAD/install.sh)\""
   ]
  },
  {
   "cell_type": "markdown",
   "id": "5b2defe7",
   "metadata": {},
   "source": [
    "#### 2. Download and install miniforge3 (Conda installer) for arm64 chips"
   ]
  },
  {
   "cell_type": "code",
   "execution_count": null,
   "id": "bee7abb0",
   "metadata": {},
   "outputs": [],
   "source": [
    "chmod +x ~/Downloads/Miniforge3-MacOSX-arm64.sh\n",
    "sh ~/Downloads/Miniforge3-MacOSX-arm64.sh\n",
    "source ~/miniforge3/bin/activate"
   ]
  },
  {
   "cell_type": "markdown",
   "id": "29c942bf",
   "metadata": {},
   "source": [
    "#### *** Note: It's better to close the terminal and open the new one to complete your installation"
   ]
  },
  {
   "cell_type": "markdown",
   "id": "071e680d",
   "metadata": {},
   "source": [
    "#### 3. Create and activate conda environment.\n",
    "* You can create your env either with python 3.9 or 3.8, both worked for us.\n",
    "* But if you get error try python 3.8 which is more compatible."
   ]
  },
  {
   "cell_type": "code",
   "execution_count": null,
   "id": "6a58a810",
   "metadata": {},
   "outputs": [],
   "source": [
    "conda create --prefix ./myenv python=3.9 \n",
    "conda activate ./myenv"
   ]
  },
  {
   "cell_type": "markdown",
   "id": "166a6219",
   "metadata": {},
   "source": [
    "#### 4. TensorFlow dependencies installation"
   ]
  },
  {
   "cell_type": "code",
   "execution_count": null,
   "id": "af628935",
   "metadata": {},
   "outputs": [],
   "source": [
    "conda install -c apple tensorflow-deps"
   ]
  },
  {
   "cell_type": "markdown",
   "id": "0db4efda",
   "metadata": {},
   "source": [
    "#### 5. Base TensorFlow installation"
   ]
  },
  {
   "cell_type": "code",
   "execution_count": null,
   "id": "26f7b6ed",
   "metadata": {},
   "outputs": [],
   "source": [
    "python -m pip install tensorflow-macos"
   ]
  },
  {
   "cell_type": "markdown",
   "id": "b6e8f938",
   "metadata": {},
   "source": [
    "#### 6. TensorFlow-metal plugin installation (Apple's GPU framework)"
   ]
  },
  {
   "cell_type": "code",
   "execution_count": null,
   "id": "350e999a",
   "metadata": {},
   "outputs": [],
   "source": [
    "python -m pip install tensorflow-metal"
   ]
  },
  {
   "cell_type": "markdown",
   "id": "ff3a40f4",
   "metadata": {},
   "source": [
    "#### 7. Installing jupyter and common libraries (pandas, numpy, scikit-learn, seaborn, matplotlib)"
   ]
  },
  {
   "cell_type": "code",
   "execution_count": null,
   "id": "0d142836",
   "metadata": {},
   "outputs": [],
   "source": [
    "conda install jupyter pandas numpy scikit-learn seaborn matplotlib"
   ]
  },
  {
   "cell_type": "markdown",
   "id": "fb0ccde8",
   "metadata": {},
   "source": [
    "#### *** Note: You can install your required libraries later on in your new environment by running 'conda install library name' in your terminal"
   ]
  },
  {
   "cell_type": "markdown",
   "id": "c30cfc8a",
   "metadata": {},
   "source": [
    "#### 8. The most important part is to save the TensorFlow environment so that you will not be required to perfrom the mentioned stages each time."
   ]
  },
  {
   "cell_type": "code",
   "execution_count": null,
   "id": "30d149fd",
   "metadata": {},
   "outputs": [],
   "source": [
    "python -m ipykernel install --user --name myenv --display-name \"Python 3.9 (tensorflow)\"\n"
   ]
  },
  {
   "cell_type": "markdown",
   "id": "d9f2a40d",
   "metadata": {},
   "source": [
    "#### 9. Finally, start the jupyter notebook"
   ]
  },
  {
   "cell_type": "code",
   "execution_count": null,
   "id": "3436fb2b",
   "metadata": {},
   "outputs": [],
   "source": [
    "jupyter notebook"
   ]
  },
  {
   "cell_type": "markdown",
   "id": "20cbf87d",
   "metadata": {},
   "source": [
    "#### 10. In your jupyter environment, select New and you will see python 3.9 (tensorflow)"
   ]
  },
  {
   "cell_type": "markdown",
   "id": "38ad1f47",
   "metadata": {},
   "source": [
    "#### 11. Check if your TensorFlow is working or not, also its version"
   ]
  },
  {
   "cell_type": "code",
   "execution_count": null,
   "id": "afc1cb6f",
   "metadata": {},
   "outputs": [],
   "source": [
    "import tensorflow as tf\n",
    "import tensorflow.keras\n",
    "print(f\"TensorFlow Version: {tf.__version__}\")\n",
    "print(f\"Keras Version: {tensorflow.keras.__version__}\")"
   ]
  }
 ],
 "metadata": {
  "kernelspec": {
   "display_name": "Python 3 (ipykernel)",
   "language": "python",
   "name": "python3"
  },
  "language_info": {
   "codemirror_mode": {
    "name": "ipython",
    "version": 3
   },
   "file_extension": ".py",
   "mimetype": "text/x-python",
   "name": "python",
   "nbconvert_exporter": "python",
   "pygments_lexer": "ipython3",
   "version": "3.9.7"
  }
 },
 "nbformat": 4,
 "nbformat_minor": 5
}
